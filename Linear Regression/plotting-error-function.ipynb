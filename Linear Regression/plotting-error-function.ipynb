{
 "cells": [
  {
   "attachments": {},
   "cell_type": "markdown",
   "id": "28b83041",
   "metadata": {
    "papermill": {
     "duration": 0.010204,
     "end_time": "2023-02-19T09:15:48.711557",
     "exception": false,
     "start_time": "2023-02-19T09:15:48.701353",
     "status": "completed"
    },
    "tags": []
   },
   "source": [
    "# Linear Regression Series - Part 3\n",
    "\n",
    "Link Blog: [**Klik di sini**](https://www.alokademy.com/2023/02/linear-regression-series-part-3.html)\n"
   ]
  },
  {
   "attachments": {},
   "cell_type": "markdown",
   "id": "cef146fd",
   "metadata": {
    "papermill": {
     "duration": 0.003507,
     "end_time": "2023-02-19T09:15:48.719371",
     "exception": false,
     "start_time": "2023-02-19T09:15:48.715864",
     "status": "completed"
    },
    "tags": []
   },
   "source": [
    "### Import package yang diperlukan\n"
   ]
  },
  {
   "cell_type": "code",
   "execution_count": 1,
   "id": "44aacac6",
   "metadata": {
    "execution": {
     "iopub.execute_input": "2023-02-19T09:15:48.729482Z",
     "iopub.status.busy": "2023-02-19T09:15:48.728558Z",
     "iopub.status.idle": "2023-02-19T09:15:48.739288Z",
     "shell.execute_reply": "2023-02-19T09:15:48.738250Z"
    },
    "papermill": {
     "duration": 0.018988,
     "end_time": "2023-02-19T09:15:48.742187",
     "exception": false,
     "start_time": "2023-02-19T09:15:48.723199",
     "status": "completed"
    },
    "tags": []
   },
   "outputs": [],
   "source": [
    "from matplotlib import pyplot\n",
    "import numpy as np\n",
    "import random"
   ]
  },
  {
   "attachments": {},
   "cell_type": "markdown",
   "id": "547d412b",
   "metadata": {
    "papermill": {
     "duration": 0.003371,
     "end_time": "2023-02-19T09:15:48.749452",
     "exception": false,
     "start_time": "2023-02-19T09:15:48.746081",
     "status": "completed"
    },
    "tags": []
   },
   "source": [
    "### Membuat sample dataset\n"
   ]
  },
  {
   "cell_type": "code",
   "execution_count": 2,
   "id": "ead53d53",
   "metadata": {
    "_cell_guid": "b1076dfc-b9ad-4769-8c92-a6c4dae69d19",
    "_uuid": "8f2839f25d086af736a60e9eeb907d3b93b6e0e5",
    "execution": {
     "iopub.execute_input": "2023-02-19T09:15:48.761071Z",
     "iopub.status.busy": "2023-02-19T09:15:48.760212Z",
     "iopub.status.idle": "2023-02-19T09:15:48.769908Z",
     "shell.execute_reply": "2023-02-19T09:15:48.768578Z"
    },
    "papermill": {
     "duration": 0.01882,
     "end_time": "2023-02-19T09:15:48.772890",
     "exception": false,
     "start_time": "2023-02-19T09:15:48.754070",
     "status": "completed"
    },
    "tags": []
   },
   "outputs": [
    {
     "name": "stdout",
     "output_type": "stream",
     "text": [
      "[1 2 3 5 6 7]\n",
      "[1.55 1.97 2.44 3.56 4.07 4.48]\n"
     ]
    }
   ],
   "source": [
    "features = np.array([1,2,3,5,6,7])\n",
    "labels = np.array([1.55, 1.97, 2.44, 3.56, 4.07, 4.48])\n",
    "\n",
    "print(features)\n",
    "print(labels)"
   ]
  },
  {
   "attachments": {},
   "cell_type": "markdown",
   "id": "03594918",
   "metadata": {},
   "source": [
    "### Fungsi untuk membuat plot\n"
   ]
  },
  {
   "cell_type": "code",
   "execution_count": 3,
   "id": "8bd9080a",
   "metadata": {},
   "outputs": [],
   "source": [
    "def draw_line(slope, y_intercept, color='grey', linewidth=0.7, starting=0, ending=8):\n",
    "    x = np.linspace(starting, ending, 1000)\n",
    "    pyplot.plot(x, y_intercept + slope*x, linestyle='-', color=color, linewidth=linewidth)\n",
    "\n",
    "def plot_points(features, labels):\n",
    "    X = np.array(features)\n",
    "    y = np.array(labels)\n",
    "    pyplot.scatter(X, y)\n",
    "    pyplot.xlabel('jumlah kamar')\n",
    "    pyplot.ylabel('harga')"
   ]
  },
  {
   "attachments": {},
   "cell_type": "markdown",
   "id": "dc93ea26",
   "metadata": {},
   "source": [
    "### Memindahkan garis menggunakan square trick\n"
   ]
  },
  {
   "cell_type": "code",
   "execution_count": 4,
   "id": "f3c01a20",
   "metadata": {},
   "outputs": [],
   "source": [
    "def square_trick(base_price, price_per_room, num_rooms, price, learning_rate):\n",
    "    #perbarui model\n",
    "    predicted_price = base_price + price_per_room*num_rooms\n",
    "    \n",
    "    #perbarui slope (harga per kamar)\n",
    "    price_per_room += learning_rate*num_rooms*(price-predicted_price)\n",
    "    \n",
    "    #perbarui y-intercept (harga dasar rumah)\n",
    "    base_price += learning_rate*(price-predicted_price)\n",
    "    \n",
    "    return price_per_room, base_price"
   ]
  },
  {
   "attachments": {},
   "cell_type": "markdown",
   "id": "caa8ca99",
   "metadata": {
    "papermill": {
     "duration": 0.003612,
     "end_time": "2023-02-19T09:15:48.780752",
     "exception": false,
     "start_time": "2023-02-19T09:15:48.777140",
     "status": "completed"
    },
    "tags": []
   },
   "source": [
    "### Root mean squared error function\n"
   ]
  },
  {
   "cell_type": "code",
   "execution_count": 5,
   "id": "5557e30f",
   "metadata": {},
   "outputs": [],
   "source": [
    "def rmse(labels, predictions):\n",
    "    n = len(labels)\n",
    "    differences = np.subtract(labels, predictions)\n",
    "    return np.sqrt(1.0/n * (np.dot(differences, differences)))"
   ]
  },
  {
   "attachments": {},
   "cell_type": "markdown",
   "id": "f418de7f",
   "metadata": {},
   "source": [
    "### Plotting Error Function\n"
   ]
  },
  {
   "cell_type": "code",
   "execution_count": 6,
   "id": "c0a2d9fd",
   "metadata": {},
   "outputs": [
    {
     "name": "stdout",
     "output_type": "stream",
     "text": [
      "Harga per kamar: 0.5099699559850331\n",
      "Harga dasar: 0.9866319723142626\n"
     ]
    },
    {
     "data": {
      "image/png": "[encoded data removed]",
      "text/plain": [
       "<Figure size 432x288 with 1 Axes>"
      ]
     },
     "metadata": {
      "needs_background": "light"
     },
     "output_type": "display_data"
    },
    {
     "data": {
      "image/png": "[encoded data removed]",
      "text/plain": [
       "<Figure size 432x288 with 1 Axes>"
      ]
     },
     "metadata": {
      "needs_background": "light"
     },
     "output_type": "display_data"
    },
    {
     "data": {
      "text/plain": [
       "(0.5099699559850331, 0.9866319723142626)"
      ]
     },
     "execution_count": 6,
     "metadata": {},
     "output_type": "execute_result"
    }
   ],
   "source": [
    "random.seed(1)\n",
    "def linear_regression(features, labels, learning_rate=0.01, epochs = 1000):\n",
    "    price_per_room = random.random()\n",
    "    base_price = random.random()\n",
    "    # init error\n",
    "    errors = []\n",
    "\n",
    "    for i in range(epochs):\n",
    "        # p̂ = mk + b \n",
    "        predictions = features[0]*price_per_room+base_price\n",
    "\n",
    "        errors.append(rmse(labels, predictions))\n",
    "        \n",
    "        i = random.randint(0, len(features)-1)\n",
    "        num_rooms = features[i]\n",
    "        price = labels[i]\n",
    "        price_per_room, base_price = square_trick(base_price, price_per_room, num_rooms, price, learning_rate=learning_rate)\n",
    "                                                  \n",
    "    draw_line(price_per_room, base_price, 'red', starting=0, ending=9)\n",
    "    plot_points(features, labels)\n",
    "\n",
    "    print('Harga per kamar:', price_per_room)\n",
    "    print('Harga dasar:', base_price)\n",
    "    pyplot.show()\n",
    "    \n",
    "    pyplot.scatter(range(len(errors)), errors)\n",
    "    pyplot.show()\n",
    "    \n",
    "    return price_per_room, base_price\n",
    "\n",
    "linear_regression(features, labels, learning_rate = 0.01, epochs = 1000)"
   ]
  },
  {
   "cell_type": "code",
   "execution_count": null,
   "id": "4b987dc4",
   "metadata": {},
   "outputs": [],
   "source": []
  }
 ],
 "metadata": {
  "kernelspec": {
   "display_name": "base",
   "language": "python",
   "name": "python3"
  },
  "language_info": {
   "codemirror_mode": {
    "name": "ipython",
    "version": 3
   },
   "file_extension": ".py",
   "mimetype": "text/x-python",
   "name": "python",
   "nbconvert_exporter": "python",
   "pygments_lexer": "ipython3",
   "version": "3.9.12"
  },
  "papermill": {
   "default_parameters": {},
   "duration": 13.015395,
   "end_time": "2023-02-19T09:15:52.161685",
   "environment_variables": {},
   "exception": null,
   "input_path": "__notebook__.ipynb",
   "output_path": "__notebook__.ipynb",
   "parameters": {},
   "start_time": "2023-02-19T09:15:39.146290",
   "version": "2.3.4"
  },
  "vscode": {
   "interpreter": {
    "hash": "a90aeebcf29d64a654773811cc170cb25061cb2498f10ac689db374c7bf325de"
   }
  }
 },
 "nbformat": 4,
 "nbformat_minor": 5
}
